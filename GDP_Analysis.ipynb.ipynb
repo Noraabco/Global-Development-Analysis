{
 "cells": [
  {
   "cell_type": "code",
   "execution_count": 1,
   "id": "853f5348-5f89-465d-bce2-6ef3c93398ea",
   "metadata": {},
   "outputs": [],
   "source": [
    "import pandas as pd\n",
    "import numpy as np\n",
    "import matplotlib.pyplot as plt"
   ]
  },
  {
   "cell_type": "code",
   "execution_count": 35,
   "id": "d97e10c4-b5ae-4480-aa28-7769a776344b",
   "metadata": {},
   "outputs": [],
   "source": [
    "# 1) load data:\n",
    "gm = pd.read_csv(\"gm.bz2\", sep=\"\\t\")\n",
    "\n",
    "# loaded gm data"
   ]
  },
  {
   "cell_type": "code",
   "execution_count": 36,
   "id": "c138235e-ad27-445c-9c73-08eeabe3f473",
   "metadata": {},
   "outputs": [
    {
     "name": "stdout",
     "output_type": "stream",
     "text": [
      "(13055, 25)\n",
      "  iso3   name iso2    region                       sub-region  \\\n",
      "0  ABW  Aruba   AW  Americas  Latin America and the Caribbean   \n",
      "1  ABW  Aruba   AW  Americas  Latin America and the Caribbean   \n",
      "2  ABW  Aruba   AW  Americas  Latin America and the Caribbean   \n",
      "3  ABW  Aruba   AW  Americas  Latin America and the Caribbean   \n",
      "4  ABW  Aruba   AW  Americas  Latin America and the Caribbean   \n",
      "\n",
      "  intermediate-region    time  totalPopulation  fertilityRate  lifeExpectancy  \\\n",
      "0           Caribbean  1960.0          54211.0          4.820          65.662   \n",
      "1           Caribbean  1961.0          55438.0          4.655          66.074   \n",
      "2           Caribbean  1962.0          56225.0          4.471          66.444   \n",
      "3           Caribbean  1963.0          56695.0          4.271          66.787   \n",
      "4           Caribbean  1964.0          57032.0          4.059          67.113   \n",
      "\n",
      "   ...  accessElectricity  agriculturalLand  agricultureTractors  \\\n",
      "0  ...                NaN               NaN                  NaN   \n",
      "1  ...                NaN              20.0                  NaN   \n",
      "2  ...                NaN              20.0                  NaN   \n",
      "3  ...                NaN              20.0                  NaN   \n",
      "4  ...                NaN              20.0                  NaN   \n",
      "\n",
      "   cerealProduction  fertilizerHa        co2  greenhouseGases     co2_PC  \\\n",
      "0               NaN           NaN  11092.675              NaN  204.62037   \n",
      "1               NaN           NaN  11576.719              NaN  208.82281   \n",
      "2               NaN           NaN  12713.489              NaN  226.11808   \n",
      "3               NaN           NaN  12178.107              NaN  214.80037   \n",
      "4               NaN           NaN  11840.743              NaN  207.61578   \n",
      "\n",
      "   pm2.5_35  battleDeaths  \n",
      "0       NaN           NaN  \n",
      "1       NaN           NaN  \n",
      "2       NaN           NaN  \n",
      "3       NaN           NaN  \n",
      "4       NaN           NaN  \n",
      "\n",
      "[5 rows x 25 columns]\n"
     ]
    }
   ],
   "source": [
    "# 2) a breif check :\n",
    "print(gm.shape)\n",
    "print(gm.head())\n",
    "\n",
    "\n",
    "#There are 13055 rows and 25 columns.\n",
    "#The first few line look pretty reasonable\n"
   ]
  },
  {
   "cell_type": "code",
   "execution_count": 4,
   "id": "e5755dea-d378-4705-b0a6-bc2f67635620",
   "metadata": {},
   "outputs": [
    {
     "data": {
      "text/plain": [
       "250"
      ]
     },
     "execution_count": 4,
     "metadata": {},
     "output_type": "execute_result"
    }
   ],
   "source": [
    "# 3):\n",
    "len(gm.name.unique())\n",
    "\n",
    "# There are 250 different countries in the data "
   ]
  },
  {
   "cell_type": "code",
   "execution_count": 5,
   "id": "c49f8e76-03d1-441d-a7fb-960f013ad473",
   "metadata": {},
   "outputs": [
    {
     "name": "stdout",
     "output_type": "stream",
     "text": [
      "2019.0\n",
      "1960.0\n"
     ]
    }
   ],
   "source": [
    "# 4) year check :\n",
    "earliest_year = gm.time.max()\n",
    "most_recent_year =gm.time.min()\n",
    "\n",
    "print(earliest_year)\n",
    "print(most_recent_year)\n",
    "\n",
    "# The earlist year is 1960 and the most recent year is 2019"
   ]
  },
  {
   "cell_type": "code",
   "execution_count": 6,
   "id": "a5e156bb-0131-426b-990b-206b1bf6edcb",
   "metadata": {},
   "outputs": [
    {
     "data": {
      "text/plain": [
       "iso3                       0\n",
       "name                     240\n",
       "iso2                     300\n",
       "region                   241\n",
       "sub-region               241\n",
       "intermediate-region     7697\n",
       "time                      36\n",
       "totalPopulation           76\n",
       "fertilityRate           1307\n",
       "lifeExpectancy          1325\n",
       "childMortality          2600\n",
       "youthFemaleLiteracy    12134\n",
       "youthMaleLiteracy      12134\n",
       "adultLiteracy          12118\n",
       "GDP_PC                  3585\n",
       "accessElectricity       7608\n",
       "agriculturalLand        1910\n",
       "agricultureTractors     6947\n",
       "cerealProduction        3606\n",
       "fertilizerHa            4929\n",
       "co2                     2658\n",
       "greenhouseGases         4994\n",
       "co2_PC                  2661\n",
       "pm2.5_35               10727\n",
       "battleDeaths           12051\n",
       "dtype: int64"
      ]
     },
     "execution_count": 6,
     "metadata": {},
     "output_type": "execute_result"
    }
   ],
   "source": [
    "# 5) misisng value check :\n",
    "gm.isna().sum()\n",
    "\n",
    "# Almost all variables has missing values, youthFemaleLiteracy and \n",
    "# youthMaleLiteracy has the most missing value, 12134. But iso3 has \n",
    "# no missing values at all"
   ]
  },
  {
   "cell_type": "code",
   "execution_count": 7,
   "id": "e24600d0-71a8-4743-a0f0-440d9afca1e4",
   "metadata": {},
   "outputs": [
    {
     "data": {
      "text/html": [
       "<div>\n",
       "<style scoped>\n",
       "    .dataframe tbody tr th:only-of-type {\n",
       "        vertical-align: middle;\n",
       "    }\n",
       "\n",
       "    .dataframe tbody tr th {\n",
       "        vertical-align: top;\n",
       "    }\n",
       "\n",
       "    .dataframe thead th {\n",
       "        text-align: right;\n",
       "    }\n",
       "</style>\n",
       "<table border=\"1\" class=\"dataframe\">\n",
       "  <thead>\n",
       "    <tr style=\"text-align: right;\">\n",
       "      <th></th>\n",
       "      <th>name</th>\n",
       "      <th>iso2</th>\n",
       "      <th>totalPopulation</th>\n",
       "      <th>time</th>\n",
       "    </tr>\n",
       "  </thead>\n",
       "  <tbody>\n",
       "    <tr>\n",
       "      <th>12212</th>\n",
       "      <td>United States Minor Outlying Islands</td>\n",
       "      <td>UM</td>\n",
       "      <td>NaN</td>\n",
       "      <td>NaN</td>\n",
       "    </tr>\n",
       "    <tr>\n",
       "      <th>4815</th>\n",
       "      <td>French Guiana</td>\n",
       "      <td>GF</td>\n",
       "      <td>NaN</td>\n",
       "      <td>NaN</td>\n",
       "    </tr>\n",
       "    <tr>\n",
       "      <th>8543</th>\n",
       "      <td>Norfolk Island</td>\n",
       "      <td>NF</td>\n",
       "      <td>NaN</td>\n",
       "      <td>NaN</td>\n",
       "    </tr>\n",
       "    <tr>\n",
       "      <th>4996</th>\n",
       "      <td>Heard Island and McDonald Islands</td>\n",
       "      <td>HM</td>\n",
       "      <td>NaN</td>\n",
       "      <td>NaN</td>\n",
       "    </tr>\n",
       "    <tr>\n",
       "      <th>8664</th>\n",
       "      <td>Niue</td>\n",
       "      <td>NU</td>\n",
       "      <td>NaN</td>\n",
       "      <td>NaN</td>\n",
       "    </tr>\n",
       "    <tr>\n",
       "      <th>8362</th>\n",
       "      <td>Mayotte</td>\n",
       "      <td>YT</td>\n",
       "      <td>NaN</td>\n",
       "      <td>NaN</td>\n",
       "    </tr>\n",
       "    <tr>\n",
       "      <th>10348</th>\n",
       "      <td>Svalbard and Jan Mayen</td>\n",
       "      <td>SJ</td>\n",
       "      <td>NaN</td>\n",
       "      <td>NaN</td>\n",
       "    </tr>\n",
       "    <tr>\n",
       "      <th>10346</th>\n",
       "      <td>South Georgia and the South Sandwich Islands</td>\n",
       "      <td>GS</td>\n",
       "      <td>NaN</td>\n",
       "      <td>NaN</td>\n",
       "    </tr>\n",
       "    <tr>\n",
       "      <th>542</th>\n",
       "      <td>Antarctica</td>\n",
       "      <td>AQ</td>\n",
       "      <td>NaN</td>\n",
       "      <td>NaN</td>\n",
       "    </tr>\n",
       "    <tr>\n",
       "      <th>11610</th>\n",
       "      <td>Tokelau</td>\n",
       "      <td>TK</td>\n",
       "      <td>NaN</td>\n",
       "      <td>NaN</td>\n",
       "    </tr>\n",
       "  </tbody>\n",
       "</table>\n",
       "</div>"
      ],
      "text/plain": [
       "                                               name iso2  totalPopulation  \\\n",
       "12212          United States Minor Outlying Islands   UM              NaN   \n",
       "4815                                  French Guiana   GF              NaN   \n",
       "8543                                 Norfolk Island   NF              NaN   \n",
       "4996              Heard Island and McDonald Islands   HM              NaN   \n",
       "8664                                           Niue   NU              NaN   \n",
       "8362                                        Mayotte   YT              NaN   \n",
       "10348                        Svalbard and Jan Mayen   SJ              NaN   \n",
       "10346  South Georgia and the South Sandwich Islands   GS              NaN   \n",
       "542                                      Antarctica   AQ              NaN   \n",
       "11610                                       Tokelau   TK              NaN   \n",
       "\n",
       "       time  \n",
       "12212   NaN  \n",
       "4815    NaN  \n",
       "8543    NaN  \n",
       "4996    NaN  \n",
       "8664    NaN  \n",
       "8362    NaN  \n",
       "10348   NaN  \n",
       "10346   NaN  \n",
       "542     NaN  \n",
       "11610   NaN  "
      ]
     },
     "execution_count": 7,
     "metadata": {},
     "output_type": "execute_result"
    }
   ],
   "source": [
    "# 6) sample out rows in the data where year element is missing :\n",
    "temp = gm[['name', 'iso2', 'totalPopulation','time']]\n",
    "temp = temp[temp.time.isna() == True]\n",
    "temp.sample(10)\n",
    "\n"
   ]
  },
  {
   "cell_type": "markdown",
   "id": "72cd0f92-d3d5-4166-9eaf-1da553dd0f1c",
   "metadata": {},
   "source": [
    "\n",
    "I think the reason why the year is missing is that these countries were too\n",
    "small or caught between geopolitical conflicts or not recoganized as country at\n",
    "the time of the data record. "
   ]
  },
  {
   "cell_type": "code",
   "execution_count": 8,
   "id": "81610ff3-5349-44be-9e00-3983d038d00e",
   "metadata": {},
   "outputs": [
    {
     "data": {
      "text/plain": [
       "0"
      ]
     },
     "execution_count": 8,
     "metadata": {},
     "output_type": "execute_result"
    }
   ],
   "source": [
    "# 7) Interesting data:\n",
    "gm.name.str.contains('taiwan').sum()\n",
    "\n",
    "# there is no record of taiwan at all\n",
    "# I think this is caused by Chinese government's pressure on international \n",
    "# recognition of Taiwan as a country"
   ]
  },
  {
   "cell_type": "code",
   "execution_count": 9,
   "id": "2830a0d6-8165-46e9-b412-254b77a00497",
   "metadata": {},
   "outputs": [
    {
     "name": "stdout",
     "output_type": "stream",
     "text": [
      "240\n",
      "300\n",
      "(0, 25)\n",
      "(60, 25)\n",
      "     iso3     name iso2  region          sub-region intermediate-region  \\\n",
      "8384  NAM  Namibia  NaN  Africa  Sub-Saharan Africa     Southern Africa   \n",
      "\n",
      "        time  totalPopulation  fertilityRate  lifeExpectancy  ...  \\\n",
      "8384  1981.0        1080941.0           6.31           57.69  ...   \n",
      "\n",
      "      accessElectricity  agriculturalLand  agricultureTractors  \\\n",
      "8384                NaN          386570.0                  NaN   \n",
      "\n",
      "      cerealProduction  fertilizerHa  co2  greenhouseGases  co2_PC  pm2.5_35  \\\n",
      "8384           75400.0           NaN  NaN        6431.6512     NaN       NaN   \n",
      "\n",
      "      battleDeaths  \n",
      "8384           NaN  \n",
      "\n",
      "[1 rows x 25 columns]\n"
     ]
    },
    {
     "data": {
      "text/plain": [
       "'\\nThere are 240 cases of name missing and 300 cases of iso2 missing\\n\\nThere are 0 cases of name missing but iso2 is not and there are 60 cases\\nof iso2 missing but name is not \\n'"
      ]
     },
     "execution_count": 9,
     "metadata": {},
     "output_type": "execute_result"
    }
   ],
   "source": [
    "# 8): \n",
    "name_missing = gm.name.isna().sum()\n",
    "iso2_missing = gm.iso2.isna().sum()\n",
    "\n",
    "no_name = gm[(gm.name.isna() == True) & (gm.iso2.isna() == False)]\n",
    "no_iso2 = gm[(gm.name.isna() == False) & (gm.iso2.isna() == True)]\n",
    "\n",
    "print(name_missing)\n",
    "print(iso2_missing)\n",
    "print(no_name.shape)\n",
    "print(no_iso2.shape)\n",
    "print(no_iso2.sample())\n",
    "\n",
    "\"\"\"\n",
    "There are 240 cases of name missing and 300 cases of iso2 missing\n",
    "\n",
    "There are 0 cases of name missing but iso2 is not and there are 60 cases\n",
    "of iso2 missing but name is not \n",
    "\"\"\"\n"
   ]
  },
  {
   "cell_type": "code",
   "execution_count": 10,
   "id": "6e47178c-9db0-4909-8f9b-f9c883c0cab2",
   "metadata": {},
   "outputs": [
    {
     "data": {
      "text/plain": [
       "0"
      ]
     },
     "execution_count": 10,
     "metadata": {},
     "output_type": "execute_result"
    }
   ],
   "source": [
    "# 9)\"\n",
    "gm[gm.name == 'Namibia'].iso2.count()\n",
    "\n",
    "# I can not find the iso2 for Namibia\n",
    "# Namibia's iso2 is NA, maybe the data recorder written it down as NA\n",
    "# but the computer recoginized it as a misisng value :("
   ]
  },
  {
   "cell_type": "markdown",
   "id": "bd3b7e5a-8d90-4cfe-bd57-09d866ce5f8c",
   "metadata": {},
   "source": [
    "### 1.2 Analyze Wealth"
   ]
  },
  {
   "cell_type": "code",
   "execution_count": 11,
   "id": "86d9cf57-bb87-45b4-abae-b4a123a0c490",
   "metadata": {},
   "outputs": [
    {
     "data": {
      "text/plain": [
       "2019.0"
      ]
     },
     "execution_count": 11,
     "metadata": {},
     "output_type": "execute_result"
    }
   ],
   "source": [
    "# 1):\n",
    "temp = gm[gm.GDP_PC.isna() == False]\n",
    "temp.time.max()\n",
    "\n",
    "# the most recent GDP data is "
   ]
  },
  {
   "cell_type": "code",
   "execution_count": 12,
   "id": "88cd63f5-adf3-4343-9ffc-e252072b1e11",
   "metadata": {},
   "outputs": [
    {
     "data": {
      "text/plain": [
       "12048.778024852181"
      ]
     },
     "execution_count": 12,
     "metadata": {},
     "output_type": "execute_result"
    }
   ],
   "source": [
    "# 2):\n",
    "gm.GDP_PC.mean()\n",
    "\n",
    "# the average GDP on this planet is $12048"
   ]
  },
  {
   "cell_type": "code",
   "execution_count": 13,
   "id": "92b9dac0-3319-48f7-adef-3840a9535d8a",
   "metadata": {},
   "outputs": [
    {
     "name": "stdout",
     "output_type": "stream",
     "text": [
      "TOP 3 richest countries: \n",
      "            name  totalPopulation        GDP_PC\n",
      "7039  Luxembourg         620001.0  111043.53170\n",
      "1505     Bermuda          64027.0   94106.36125\n",
      "8844      Norway        5347896.0   92556.32164\n",
      "\n",
      "TOP 3 poorest countries: \n",
      "                                   name  totalPopulation     GDP_PC\n",
      "843                             Burundi       11530580.0  208.07473\n",
      "1926           Central African Republic        4745185.0  384.14556\n",
      "2407  Congo, Democratic Republic of the       86790567.0  423.64026\n"
     ]
    }
   ],
   "source": [
    "# 3):\n",
    "temp = gm[gm.time == 2019]\n",
    "richest_c = temp.loc[temp.GDP_PC.nlargest(3).index]\n",
    "poorest_c = temp.loc[temp.GDP_PC.nsmallest(3).index]\n",
    "\n",
    "print(\"TOP 3 richest countries: \")\n",
    "print(richest_c[['name', 'totalPopulation', 'GDP_PC']])\n",
    "print()\n",
    "print(\"TOP 3 poorest countries: \")\n",
    "print(poorest_c[['name', 'totalPopulation', 'GDP_PC']])\n",
    "\n",
    "# Most richest countries are European Countries with very small population\n",
    "# most poorest countries are African countries with relative large population\n",
    "# the wealth gap between rich and poor countries are staggering"
   ]
  },
  {
   "cell_type": "code",
   "execution_count": 14,
   "id": "9b3d6269-cafa-415d-9e27-20935b665824",
   "metadata": {},
   "outputs": [
    {
     "data": {
      "image/png": "[encoded data removed]",
      "text/plain": [
       "<Figure size 432x288 with 1 Axes>"
      ]
     },
     "metadata": {
      "needs_background": "light"
     },
     "output_type": "display_data"
    }
   ],
   "source": [
    "# 4):\n",
    "s_1 = np.sqrt(temp.totalPopulation) / 20\n",
    "_ = plt.scatter(temp.lifeExpectancy, temp.GDP_PC, alpha=0.5,\n",
    "               s=s_1, color='black')\n",
    "_ = plt.xlabel(\"lifeExpectancy\")\n",
    "_ = plt.ylabel(\"GDP_PC\")\n",
    "_ = plt.title(\"lifeExpectancy vs GDP_PC 2019\")\n",
    "\n",
    "# Life Expectancy increases as countries' GDP increases, better wealth means\n",
    "# more stable government and better living conditions, so people choose\n",
    "# to live a better life "
   ]
  },
  {
   "cell_type": "code",
   "execution_count": 15,
   "id": "e6728094-657a-436b-9c4a-c5979e089041",
   "metadata": {},
   "outputs": [
    {
     "data": {
      "text/plain": [
       "region\n",
       "Europe      33227.983767\n",
       "Americas    14516.826303\n",
       "Asia        14116.124163\n",
       "Oceania     11817.735554\n",
       "Africa       2765.708956\n",
       "Name: GDP_PC, dtype: float64"
      ]
     },
     "execution_count": 15,
     "metadata": {},
     "output_type": "execute_result"
    }
   ],
   "source": [
    "# 5):\n",
    "temp.groupby('region')['GDP_PC'].mean().sort_values(ascending=False)\n",
    "\n",
    "# Of course Europe will have the most average GPD_PC, this looks like \n",
    "# a reasonable order for me. Europe has the most developed countries \n",
    "# followed by America then Asia and Africa being the last\n"
   ]
  },
  {
   "cell_type": "markdown",
   "id": "daebcae5-cbb4-42ce-b2a3-8b9d6e29d2bf",
   "metadata": {},
   "source": [
    "### 2 Explore Distributions"
   ]
  },
  {
   "cell_type": "code",
   "execution_count": 16,
   "id": "1b52e164-3ca4-4a8f-8a3f-d20d313f33a3",
   "metadata": {},
   "outputs": [
    {
     "data": {
      "text/plain": [
       "10000"
      ]
     },
     "execution_count": 16,
     "metadata": {},
     "output_type": "execute_result"
    }
   ],
   "source": [
    "# 1):\n",
    "S = 10000\n",
    "S\n",
    "\n",
    "# i set the sample size S as 10000"
   ]
  },
  {
   "cell_type": "code",
   "execution_count": 17,
   "id": "db874ec2-f287-4537-ab19-2ece92eac6fa",
   "metadata": {},
   "outputs": [
    {
     "data": {
      "image/png": "[encoded data removed]",
      "text/plain": [
       "<Figure size 432x288 with 1 Axes>"
      ]
     },
     "metadata": {
      "needs_background": "light"
     },
     "output_type": "display_data"
    }
   ],
   "source": [
    "# 2):\n",
    "LN1 = np.random.lognormal(0, 0.5, size = S)\n",
    "LN2 = np.random.lognormal(0, 1.68, size = S)\n",
    "\n",
    "_ = plt.hist(LN1, bins=30)\n",
    "_ = plt.title(\"LN(0, 0.5)\")\n",
    "\n",
    "# the linear linear plot is very skewed right\n",
    "# the log linear plot is comparebly less skewed than the \n",
    "# linear linear plot and looks more normal"
   ]
  },
  {
   "cell_type": "code",
   "execution_count": 18,
   "id": "ccfa15b7-535d-426b-ade4-199271954523",
   "metadata": {},
   "outputs": [
    {
     "data": {
      "image/png": "[encoded data removed]",
      "text/plain": [
       "<Figure size 432x288 with 1 Axes>"
      ]
     },
     "metadata": {
      "needs_background": "light"
     },
     "output_type": "display_data"
    }
   ],
   "source": [
    "_ = plt.hist(LN2, bins=30)\n",
    "_ = plt.title(\"LN(0, 1.68)\")"
   ]
  },
  {
   "cell_type": "markdown",
   "id": "01a25c29-69d9-42d6-a572-085f471e44f1",
   "metadata": {},
   "source": [
    "3):\n",
    "\n",
    "Look at the histograms, LN(0,1.68) describes the most unequal distribution\n",
    "LN(0,0.5) describes the least unequal distribution"
   ]
  },
  {
   "cell_type": "code",
   "execution_count": 19,
   "id": "e96719fe-e279-4084-85d8-c35a69d26145",
   "metadata": {},
   "outputs": [
    {
     "name": "stdout",
     "output_type": "stream",
     "text": [
      "1.129928989772844 3.9031583213970458\n",
      "0.3616980668720838 168.68287276989088\n"
     ]
    }
   ],
   "source": [
    "# 4):\n",
    "LN1_mean = LN1.mean()\n",
    "LN1_var = LN1.var()\n",
    "\n",
    "LN2_mean = LN2.mean()\n",
    "LN2_var = LN2.var()\n",
    "\n",
    "print(LN1_mean, LN2_mean)\n",
    "print(LN1_var,LN2_var)\n",
    "\n",
    "# I tried multiple times and the mean and variance for LN1 are relative the same\n",
    "# through out different trials. The mean for LN2 is also stable, BUT the variance\n",
    "# of LN2 varies drastically due to more inequality\n",
    "\n"
   ]
  },
  {
   "cell_type": "markdown",
   "id": "872a7d66-9bc2-4295-b99c-c01e2fb96a25",
   "metadata": {},
   "source": [
    "### 2.2 How is Data Distributed"
   ]
  },
  {
   "cell_type": "code",
   "execution_count": 20,
   "id": "a5ae0de1-e6f0-4132-a2da-7b478aa90489",
   "metadata": {},
   "outputs": [
    {
     "data": {
      "text/plain": [
       "(2675, 10)"
      ]
     },
     "execution_count": 20,
     "metadata": {},
     "output_type": "execute_result"
    }
   ],
   "source": [
    "# 1):\n",
    "re78 = pd.read_csv(\"re78.bz2\", sep = \"\\t\")\n",
    "re78.shape\n",
    "\n",
    "# data looks reasonable"
   ]
  },
  {
   "cell_type": "code",
   "execution_count": 21,
   "id": "7fae520b-c722-467e-b432-ec8d9587fbba",
   "metadata": {},
   "outputs": [
    {
     "data": {
      "image/png": "[encoded data removed]",
      "text/plain": [
       "<Figure size 432x288 with 1 Axes>"
      ]
     },
     "metadata": {
      "needs_background": "light"
     },
     "output_type": "display_data"
    }
   ],
   "source": [
    "# 2):\n",
    "\n",
    "income = re78.re78\n",
    "income_log = np.log(1 + re78.re78)\n",
    "\n",
    "_ = plt.hist(income, bins=30)\n",
    "_ = plt.title(\"Income Distribution\")"
   ]
  },
  {
   "cell_type": "code",
   "execution_count": 22,
   "id": "5a352a8a-53c7-427f-a6db-94235ecd16c5",
   "metadata": {},
   "outputs": [
    {
     "data": {
      "image/png": "[encoded data removed]",
      "text/plain": [
       "<Figure size 432x288 with 1 Axes>"
      ]
     },
     "metadata": {
      "needs_background": "light"
     },
     "output_type": "display_data"
    }
   ],
   "source": [
    "_ = plt.hist(income_log, bins=30)\n",
    "_ = plt.title(\"Log Income Distribution\")\n",
    "\n",
    "# log income histogram looks like it has less inequality"
   ]
  },
  {
   "cell_type": "code",
   "execution_count": 23,
   "id": "fc158385-d41e-4ea3-9c8d-5cb6b1ebe48b",
   "metadata": {},
   "outputs": [
    {
     "name": "stdout",
     "output_type": "stream",
     "text": [
      "20502.37607865417 8.604875840853799\n",
      "15632.519774212507 3.3251912556938423\n"
     ]
    }
   ],
   "source": [
    "# 3):\n",
    "income_mean = income.mean()\n",
    "income_sd = income.std()\n",
    "\n",
    "income_log_mean = income_log.mean()\n",
    "income_log_sd = income_log.std()\n",
    "\n",
    "print(income_mean, income_log_mean)\n",
    "print(income_sd, income_log_sd)\n",
    "\n",
    "# The standard deviations are pretty small compare to the mean for both income and \n",
    "# log income"
   ]
  },
  {
   "cell_type": "code",
   "execution_count": 24,
   "id": "76b47847-1770-4236-af7b-c49c45583d5f",
   "metadata": {},
   "outputs": [
    {
     "data": {
      "text/plain": [
       "6.62004668303448"
      ]
     },
     "execution_count": 24,
     "metadata": {},
     "output_type": "execute_result"
    }
   ],
   "source": [
    "# 4):\n",
    "temp = re78[re78.re78 > 0]\n",
    "top20 = temp.re78.nlargest(467)\n",
    "button20 = temp.re78.nsmallest(470)\n",
    "\n",
    "QSR = top20.sum()/ button20.sum()\n",
    "QSR\n",
    "\n",
    "\n",
    "# I calculated QSR and get around 6.6"
   ]
  },
  {
   "cell_type": "markdown",
   "id": "34cb5d33-357e-4236-9a5a-7ce4873514b2",
   "metadata": {},
   "source": [
    "### 3 Explore Central Limit Theorem"
   ]
  },
  {
   "cell_type": "code",
   "execution_count": 25,
   "id": "ab658f99-c458-404e-81ee-38b17028cb3f",
   "metadata": {},
   "outputs": [
    {
     "name": "stdout",
     "output_type": "stream",
     "text": [
      "0.0 1.0\n"
     ]
    }
   ],
   "source": [
    "# 1):\n",
    "\n",
    "np.random.randint(0,2,size=10)*2 -1 \n",
    "\n",
    "EX = -1 * 0.5  + 1 * 0.5\n",
    "\n",
    "VarX = (0.5 * 1 + 0.5 * 1) - EX**2\n",
    "\n",
    "print(EX, VarX)\n",
    "\n",
    "# the expected value is 0 and the variance is 1"
   ]
  },
  {
   "cell_type": "code",
   "execution_count": 26,
   "id": "c9be3294-b2ef-469f-9727-cba043e20a95",
   "metadata": {},
   "outputs": [
    {
     "data": {
      "text/plain": [
       "100000"
      ]
     },
     "execution_count": 26,
     "metadata": {},
     "output_type": "execute_result"
    }
   ],
   "source": [
    "# 2):\n",
    "\n",
    "R = 100000\n",
    "R\n",
    "\n",
    "# set the repetition to 100000 to make histogram smoother"
   ]
  },
  {
   "cell_type": "code",
   "execution_count": 27,
   "id": "113e4bb3-4e4f-4c54-8052-d8eb41a13b65",
   "metadata": {},
   "outputs": [
    {
     "data": {
      "image/png": "[encoded data removed]",
      "text/plain": [
       "<Figure size 432x288 with 1 Axes>"
      ]
     },
     "metadata": {
      "needs_background": "light"
     },
     "output_type": "display_data"
    }
   ],
   "source": [
    "# 3):\n",
    "np.random.seed(1)\n",
    "X = np.random.randint(0,2,size=(1000,1))*2 -1\n",
    "\n",
    "_ = plt.hist(X, bins=100)\n",
    "\n",
    "# the distribution looks relative equal, there are  a bit more tails\n"
   ]
  },
  {
   "cell_type": "code",
   "execution_count": 28,
   "id": "4af33fd3-c8d6-4ff6-b10a-5e23dd0b0996",
   "metadata": {},
   "outputs": [
    {
     "name": "stdout",
     "output_type": "stream",
     "text": [
      "-0.044 0.9980639999999998\n"
     ]
    }
   ],
   "source": [
    "# 4):\n",
    "X_mean = X.mean()\n",
    "X_var = X.var()\n",
    "\n",
    "print(X_mean, X_var)\n",
    "\n",
    "# the sample mean and sample variance are very close to the theoretical mean and variances"
   ]
  },
  {
   "cell_type": "code",
   "execution_count": 29,
   "id": "4e0a772a-64d6-425f-9358-7ab69cbb8316",
   "metadata": {},
   "outputs": [
    {
     "data": {
      "image/png": "[encoded data removed]",
      "text/plain": [
       "<Figure size 432x288 with 1 Axes>"
      ]
     },
     "metadata": {
      "needs_background": "light"
     },
     "output_type": "display_data"
    }
   ],
   "source": [
    "# 5):\n",
    "np.random.seed(1)\n",
    "X_2 = np.random.randint(0,2,size=(R,2))*2 -1\n",
    "\n",
    "X_2_mean = X_2.mean(axis = 1)\n",
    "\n",
    "_ = plt.hist(X_2_mean, bins=10)\n",
    "\n",
    "# there are most mean that are the expected value"
   ]
  },
  {
   "cell_type": "code",
   "execution_count": 30,
   "id": "e55a69ed-df0c-45ad-8b2a-f473d0244a57",
   "metadata": {},
   "outputs": [
    {
     "name": "stdout",
     "output_type": "stream",
     "text": [
      "-0.00286 0.5004918204\n"
     ]
    }
   ],
   "source": [
    "# 6):\n",
    "\n",
    "X_2_mean_mean = X_2_mean.mean()\n",
    "X_2_mean_var = X_2_mean.var()\n",
    "\n",
    "print(X_2_mean_mean, X_2_mean_var)\n",
    "\n",
    "# the mean of R pairs mean is close to the epected value, the variance is about .5"
   ]
  },
  {
   "cell_type": "code",
   "execution_count": 31,
   "id": "cd3844d4-d13a-45d7-b58c-e8ba307f1e4d",
   "metadata": {},
   "outputs": [
    {
     "name": "stdout",
     "output_type": "stream",
     "text": [
      "-0.00286 0.5004918204\n",
      "-0.044 0.9980639999999998\n"
     ]
    }
   ],
   "source": [
    "# 7):\n",
    "\n",
    "print(X_2_mean_mean, X_2_mean_var)\n",
    "print(X_mean, X_var)\n",
    "\n",
    "# just like the CLT, the variance of a pair mean is about 1/2 of X's mean\n",
    "# and the pair mean is a bit closer to the expected value than X's mean\n",
    "\n"
   ]
  },
  {
   "cell_type": "code",
   "execution_count": 32,
   "id": "7ab901b0-d433-43ce-bec1-0e528e5814c7",
   "metadata": {},
   "outputs": [
    {
     "name": "stdout",
     "output_type": "stream",
     "text": [
      "0.001264 0.999998402304\n"
     ]
    },
    {
     "data": {
      "image/png": "[encoded data removed]",
      "text/plain": [
       "<Figure size 432x288 with 1 Axes>"
      ]
     },
     "metadata": {
      "needs_background": "light"
     },
     "output_type": "display_data"
    }
   ],
   "source": [
    "# 8):\n",
    "np.random.seed(1)\n",
    "X_5 = np.random.randint(0,2,size=(R,5))*2 -1\n",
    "X_5_mean = X_5.mean()\n",
    "X_5_var = X_5.var()\n",
    "\n",
    "X_5_mean_mean = X_5.mean(axis = 1)\n",
    "\n",
    "\n",
    "_ = plt.hist(X_5_mean_mean, bins=10)\n",
    "\n",
    "print(X_5_mean, X_5_var)\n",
    "\n",
    "# the sample mean and variance of 5 tuple are even closer to the theoretical\n",
    "# values than when S = 1. The histogram also look a bit different as it become\n",
    "# more normally disbributed\n",
    "\n"
   ]
  },
  {
   "cell_type": "code",
   "execution_count": 33,
   "id": "bbdc9edf-7cee-4502-b7f7-1fe3245d6cf6",
   "metadata": {},
   "outputs": [
    {
     "name": "stdout",
     "output_type": "stream",
     "text": [
      "-0.0002836 0.999999919571041\n"
     ]
    },
    {
     "data": {
      "image/png": "[encoded data removed]",
      "text/plain": [
       "<Figure size 432x288 with 1 Axes>"
      ]
     },
     "metadata": {
      "needs_background": "light"
     },
     "output_type": "display_data"
    }
   ],
   "source": [
    "# 9):\n",
    "np.random.seed(1)\n",
    "X_50 = np.random.randint(0,2,size=(R,50))*2 -1\n",
    "X_50_mean = X_50.mean()\n",
    "X_50_var = X_50.var()\n",
    "\n",
    "X_50_mean_mean = X_50.mean(axis = 1)\n",
    "_ = plt.hist(X_50_mean_mean, bins=30)\n",
    "\n",
    "print(X_50_mean, X_50_var)\n",
    "\n",
    "# as the number of S goes up, the closer it gets for sample mean and variances to\n",
    "# theorectical values and the histogram look more normally distributed"
   ]
  },
  {
   "cell_type": "markdown",
   "id": "e602b5c7-612d-4259-af05-0ca003438e33",
   "metadata": {},
   "source": [
    "10):\n",
    "\n",
    "The shape of histogram changes as number of tuples goes up, the more tuple, \n",
    "the more similar of the two bars since the difference become less noticeable\n"
   ]
  },
  {
   "cell_type": "markdown",
   "id": "73512def-de42-47f0-9b53-3853a0aa54ea",
   "metadata": {},
   "source": [
    "11):\n",
    "\n",
    "Because as number of tuple grows, the mean become more precise and the disbribution\n",
    "become more normal , therefore it become the 山 shape."
   ]
  },
  {
   "cell_type": "markdown",
   "id": "01b84d64-6001-40ed-bbab-d3d0d0eda3e0",
   "metadata": {},
   "source": [
    "### Time Spent\n",
    "\n",
    "I spent about 3 and half hours for this problem set"
   ]
  },
  {
   "cell_type": "code",
   "execution_count": null,
   "id": "75aa96a3-4883-470b-88b7-1989ab4ede6d",
   "metadata": {},
   "outputs": [],
   "source": []
  }
 ],
 "metadata": {
  "kernelspec": {
   "display_name": "Python 3.10.8 64-bit (microsoft store)",
   "language": "python",
   "name": "python3"
  },
  "language_info": {
   "codemirror_mode": {
    "name": "ipython",
    "version": 3
   },
   "file_extension": ".py",
   "mimetype": "text/x-python",
   "name": "python",
   "nbconvert_exporter": "python",
   "pygments_lexer": "ipython3",
   "version": "3.10.8"
  },
  "vscode": {
   "interpreter": {
    "hash": "fb4a7f07a05e69ccd70b8610395539af4ea9eff6155ae8b28a9ee451516f169c"
   }
  }
 },
 "nbformat": 4,
 "nbformat_minor": 5
}
